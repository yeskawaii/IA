{
 "cells": [
  {
   "cell_type": "markdown",
   "id": "68e90410-8ad3-48dc-80fd-4d9153a374b0",
   "metadata": {},
   "source": [
    "# Propuesta de solucion granjero,gallina,zorro,lechuga\n",
    "\n",
    "\n",
    "1- se llevaria al pollo, dejarlo y regresar.\n",
    "2- se llevaria al zorro para poder dejarlo y regresar al pollo\n",
    "3- deja el pollo y se lleva la lechuga\n",
    "4- deja la lechuga y se regresaria solo\n",
    "5- se llevaria al pollo y los dejaria\n",
    "\n",
    "## medida de rendimiento\n",
    "\n",
    "la medida es en 5 pasos para que no se coman entre si\n",
    "\n",
    "## secuencia de percepcion\n",
    "\n",
    "LadoA[pollo,zorro,lechuga]  LadoB[] barco[]\n",
    "LadoA[zorro,lechuga]  LadoB[pollo] barco[]\n",
    "LadoA[lechuga]  LadoB[zorro] barco[pollo]\n",
    "LadoA[pollo]  LadoB[zorro] barco[lechuga]\n",
    "LadoA[pollo]  LadoB[zorro,lechuga] barco[]\n",
    "LadoA[]  LadoB[zorro,lechuga] barco[pollo]\n",
    "LadoA[]  LadoB[zorro,lechuga,pollo] barco[]\n",
    "\n",
    "# problema de canibales y monjes\n",
    "\n",
    "1- llevo un monje y un canival en el barco \n",
    "2- se queda el canival y regresa el monje\n",
    "3- llevo dos canivales y dejo uno solo\n",
    "4- llevo dos monjes y regreso un monje y un canival\n",
    "5- llevo dos monjes y regreso un canival\n",
    "6- llevo dos canivales y regreso un monje\n",
    "7-llevo un monej y un canival\n",
    "\n",
    "## medida de rendimiento\n",
    "\n",
    "terminaria en 7 pasos para que no coman a los monjes\n",
    "\n",
    "## secuencia de percepcion\n",
    "\n",
    "LadoA[monje,monje,monje,canival,canival,canival] barco[] LadoB[]\n",
    "LadoA[monje,monje,canival,canival] barco[canival,monje] LadoB[]\n",
    "LadoA[monje,monje,monje,canival,canival,canival] barco[monje] LadoB[canival]\n",
    "LadoA[monje,monje,monje] barco[canival,canival] LadoB[canival]\n",
    "LadoA[monje,monje,monje] barco[canival] LadoB[canival,canival]\n",
    "LadoA[monje,canival] barco[monje,monje] LadoB[canival,canival]\n",
    "LadoA[monje,canival] barco[canival,monje] LadoB[monje,canival]\n",
    "LadoA[canivalcanival] barco[monje,monje] LadoB[canival,monje]\n",
    "LadoA[canival,canival] barco[canival] LadoB[monje,monje,monje]\n",
    "LadoA[canival] barco[canival,canival] LadoB[monje,monje.monje]\n",
    "LadoA[canival] barco[canival] LadoB[monje,monje.monje,canival]\n",
    "LadoA[] barco[canival,canival] LadoB[monje,monje.monje,canival]\n",
    "LadoA[] barco[] LadoB[monje,monje.monje,canival,canival,canival]"
   ]
  },
  {
   "cell_type": "code",
   "execution_count": null,
   "id": "c8636c8f-a14b-4577-8d22-68bcfda2e3e6",
   "metadata": {},
   "outputs": [],
   "source": []
  }
 ],
 "metadata": {
  "kernelspec": {
   "display_name": "Python 3 (ipykernel)",
   "language": "python",
   "name": "python3"
  },
  "language_info": {
   "codemirror_mode": {
    "name": "ipython",
    "version": 3
   },
   "file_extension": ".py",
   "mimetype": "text/x-python",
   "name": "python",
   "nbconvert_exporter": "python",
   "pygments_lexer": "ipython3",
   "version": "3.11.5"
  }
 },
 "nbformat": 4,
 "nbformat_minor": 5
}
