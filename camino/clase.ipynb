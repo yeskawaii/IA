{
 "cells": [
  {
   "cell_type": "code",
   "execution_count": 4,
   "id": "aa6c352c-a57c-4582-9bcd-8d13abc909e3",
   "metadata": {},
   "outputs": [],
   "source": [
    "import cv2\n",
    "import numpy as np\n",
    "\n",
    "img = cv2.imread('carretera.jpg',0)\n",
    "\n",
    "w,h=img.shape\n",
    "for i in range (w):\n",
    "    for j in range (h):\n",
    "        img[i,j]= 255-img[i,j]\n",
    "\n",
    "cv2.imshow('Carretera con filtro de color', img)\n",
    "cv2.waitKey(0)\n",
    "cv2.destroyAllWindows()"
   ]
  },
  {
   "cell_type": "code",
   "execution_count": null,
   "id": "47fbd287-8a1d-4d81-9a39-84fd5313f4bf",
   "metadata": {},
   "outputs": [],
   "source": []
  }
 ],
 "metadata": {
  "kernelspec": {
   "display_name": "Python 3 (ipykernel)",
   "language": "python",
   "name": "python3"
  },
  "language_info": {
   "codemirror_mode": {
    "name": "ipython",
    "version": 3
   },
   "file_extension": ".py",
   "mimetype": "text/x-python",
   "name": "python",
   "nbconvert_exporter": "python",
   "pygments_lexer": "ipython3",
   "version": "3.11.5"
  }
 },
 "nbformat": 4,
 "nbformat_minor": 5
}
