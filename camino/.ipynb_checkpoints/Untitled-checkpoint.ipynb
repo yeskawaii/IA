{
 "cells": [
  {
   "cell_type": "code",
   "execution_count": 17,
   "id": "44997034-43bd-4b02-99c7-25969ecd1e73",
   "metadata": {},
   "outputs": [],
   "source": [
    "import cv2\n",
    "import numpy as np\n",
    "\n",
    "imagen = cv2.imread('carretera.jpg')\n",
    "\n",
    "min_color = np.array([0, 0, 0], dtype=\"uint8\")\n",
    "max_color = np.array([120, 120, 120], dtype=\"uint8\")\n",
    "\n",
    "mascara = cv2.inRange(imagen, min_color, max_color)\n",
    "\n",
    "kernel = np.ones((5, 5), np.uint8)\n",
    "mascara = cv2.morphologyEx(mascara, cv2.MORPH_OPEN, kernel)\n",
    "\n",
    "resultado = cv2.bitwise_and(imagen, imagen, mask=mascara)\n",
    "\n",
    "cv2.imshow('Carretera con filtro de color', resultado)\n",
    "cv2.waitKey(0)\n",
    "cv2.destroyAllWindows()\n"
   ]
  },
  {
   "cell_type": "code",
   "execution_count": null,
   "id": "15bc41c5-8c68-4a77-ba37-fa0391a32439",
   "metadata": {},
   "outputs": [],
   "source": []
  }
 ],
 "metadata": {
  "kernelspec": {
   "display_name": "Python 3 (ipykernel)",
   "language": "python",
   "name": "python3"
  },
  "language_info": {
   "codemirror_mode": {
    "name": "ipython",
    "version": 3
   },
   "file_extension": ".py",
   "mimetype": "text/x-python",
   "name": "python",
   "nbconvert_exporter": "python",
   "pygments_lexer": "ipython3",
   "version": "3.11.5"
  }
 },
 "nbformat": 4,
 "nbformat_minor": 5
}
