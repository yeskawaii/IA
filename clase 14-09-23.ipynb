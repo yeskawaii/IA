{
 "cells": [
  {
   "cell_type": "markdown",
   "id": "fd83b258-9110-4666-b009-47729376e4ef",
   "metadata": {},
   "source": [
    "# ranas\n",
    "\n",
    "## medida de rendimiento\n",
    "\n",
    "Las ranas no pueden brincar mas de un espacio\n",
    "Se pueden brincar entre ekkas pero nadamas 1 rana\n",
    "no se pueden regresar las ranas\n",
    "Se deben de situar el grupo de ranas ocupando el lugar de las otras\n",
    "\n",
    "## secuencia de percepcion\n",
    "\n",
    "[0][0][0][][x][x][x]\n",
    "[0][0][0][x][][x][x]\n",
    "[0][0][][x][0][x][x]\n",
    "[0][][0][x][0][x][x]\n",
    "[0][x][0][][0][x][x]\n",
    "[0][x][0][x][0][][x]\n",
    "[0][x][0][x][0][x][]\n",
    "[0][x][0][x][][x][0]\n",
    "[0][x][][x][0][x][0]\n",
    "[][x][0][x][0][x][0]\n",
    "[x][][0][x][0][x][0]\n",
    "[x][x][0][][0][x][0]\n",
    "[x][x][0][x][0][][0]\n",
    "[x][x][0][x][][0][0]\n",
    "[x][x][][x][0][0][0]\n",
    "[x][x][x][][0][0][0]\n",
    "\n",
    "## todas las posibilidades\n",
    "\n",
    "[0][0][0][][x][x][x] // [0][0][0][x][][x][x] // [0][0][0][x][x][][x] // [0][0][][0][x][x][x] // [0][][0][0][x][x][x]"
   ]
  }
 ],
 "metadata": {
  "kernelspec": {
   "display_name": "Python 3 (ipykernel)",
   "language": "python",
   "name": "python3"
  },
  "language_info": {
   "codemirror_mode": {
    "name": "ipython",
    "version": 3
   },
   "file_extension": ".py",
   "mimetype": "text/x-python",
   "name": "python",
   "nbconvert_exporter": "python",
   "pygments_lexer": "ipython3",
   "version": "3.11.5"
  }
 },
 "nbformat": 4,
 "nbformat_minor": 5
}
