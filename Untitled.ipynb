{
 "cells": [
  {
   "cell_type": "markdown",
   "id": "68e90410-8ad3-48dc-80fd-4d9153a374b0",
   "metadata": {},
   "source": [
    "# Propuesta de solucion granjero,gallina,zorro,lechuga\n",
    "\n",
    "## medida de rendimiento\n",
    "\n",
    "1- llevar al pollo, dejarlo y regresar con esto se cumple con las condiciones\n",
    "2- llevar la lechuga, dejarla y regresar\n",
    "3- llevar al zorro y dejarlo\n",
    "\n",
    "## secuencia de percepcion\n",
    "\n",
    "1- se llevaria al pollo, dejarlo y regresar.\n",
    "2- se llevaria al zorro para poder dejarlo y regresar al pollo\n",
    "3- deja el pollo y se lleva la lechuga\n",
    "4- deja la lechuga y se regresaria solo\n",
    "5- se llevaria al pollo y los dejaria\n",
    "\n",
    "# problema de canibales y monjes\n",
    "\n",
    "## medida de rendimiento\n",
    "\n",
    "1- llevo un monje y un canival en el barco \n",
    "2- se queda el canival y regresa el monje\n",
    "3- llevo dos canivales y dejo uno solo\n",
    "4- llevo dos monjes y regreso un monjey un canival\n",
    "5- \n",
    "\n",
    "## secuencia de percepcion"
   ]
  },
  {
   "cell_type": "code",
   "execution_count": null,
   "id": "c8636c8f-a14b-4577-8d22-68bcfda2e3e6",
   "metadata": {},
   "outputs": [],
   "source": []
  }
 ],
 "metadata": {
  "kernelspec": {
   "display_name": "Python 3 (ipykernel)",
   "language": "python",
   "name": "python3"
  },
  "language_info": {
   "codemirror_mode": {
    "name": "ipython",
    "version": 3
   },
   "file_extension": ".py",
   "mimetype": "text/x-python",
   "name": "python",
   "nbconvert_exporter": "python",
   "pygments_lexer": "ipython3",
   "version": "3.11.5"
  }
 },
 "nbformat": 4,
 "nbformat_minor": 5
}
