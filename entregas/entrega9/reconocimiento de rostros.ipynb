{
 "cells": [
  {
   "cell_type": "code",
   "execution_count": 2,
   "id": "041351db-6933-4f3d-b32e-d3a5cff7b983",
   "metadata": {},
   "outputs": [],
   "source": [
    "import cv2 as cv\n",
    "\n",
    "# Cargar el modelo preentrenado para detección de rostros\n",
    "face_cascade = cv.CascadeClassifier(cv.data.haarcascades + 'haarcascade_frontalface_default.xml')\n",
    "\n",
    "cap = cv.VideoCapture(0)\n",
    "i = 0\n",
    "\n",
    "while True:\n",
    "    ret, frame = cap.read()\n",
    "\n",
    "    # Convertir la imagen a escala de grises para la detección de rostros\n",
    "    gray = cv.cvtColor(frame, cv.COLOR_BGR2GRAY)\n",
    "\n",
    "    # Detectar rostros en la imagen\n",
    "    faces = face_cascade.detectMultiScale(gray, scaleFactor=1.3, minNeighbors=5)\n",
    "\n",
    "    for (x, y, w, h) in faces:\n",
    "        # Dibujar un rectángulo alrededor del rostro detectado\n",
    "        cv.rectangle(frame, (x, y), (x+w, y+h), (255, 0, 0), 3)\n",
    "\n",
    "        # Guardar la región de interés (rostro)\n",
    "        face_roi = frame[y:y+h, x:x+w]\n",
    "        i += 1\n",
    "        cv.imwrite(f'imagen_{i}.jpg', face_roi)\n",
    "\n",
    "    cv.imshow('frame', frame)\n",
    "\n",
    "    k = cv.waitKey(1)\n",
    "    if k == ord('q'):\n",
    "        break\n",
    "\n",
    "cap.release()\n",
    "cv.destroyAllWindows()\n"
   ]
  },
  {
   "cell_type": "code",
   "execution_count": null,
   "id": "5422689e-67b7-41d2-bb1a-0ef91c58e075",
   "metadata": {},
   "outputs": [],
   "source": []
  }
 ],
 "metadata": {
  "kernelspec": {
   "display_name": "Python 3 (ipykernel)",
   "language": "python",
   "name": "python3"
  },
  "language_info": {
   "codemirror_mode": {
    "name": "ipython",
    "version": 3
   },
   "file_extension": ".py",
   "mimetype": "text/x-python",
   "name": "python",
   "nbconvert_exporter": "python",
   "pygments_lexer": "ipython3",
   "version": "3.11.5"
  }
 },
 "nbformat": 4,
 "nbformat_minor": 5
}
