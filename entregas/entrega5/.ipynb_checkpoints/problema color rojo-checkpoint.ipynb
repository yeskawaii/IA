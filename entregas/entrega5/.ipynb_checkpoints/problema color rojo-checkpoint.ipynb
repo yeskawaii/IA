{
 "cells": [
  {
   "cell_type": "markdown",
   "id": "5bde9788-e39e-4a12-9f88-ce54abb46bc0",
   "metadata": {},
   "source": [
    "# probelma de deteccion de color rojo para identeificar objetos"
   ]
  },
  {
   "cell_type": "code",
   "execution_count": 8,
   "id": "d3fbdba8-4e6b-4480-9292-030e76c04b46",
   "metadata": {},
   "outputs": [],
   "source": [
    "import cv2 as cv\n",
    "\n",
    "img = cv.imread('f1.jpg', 1)\n",
    "img2 = cv.cvtColor(img, cv.COLOR_BGR2RGB)\n",
    "img3 = cv.cvtColor(img2, cv.COLOR_RGB2HSV)\n",
    "\n",
    "# Define los umbrales para el color rojo en el espacio de color HSV\n",
    "umbralBajoRojo1 = (0, 80, 80)\n",
    "umbralAltoRojo1 = (10, 255, 255)\n",
    "umbralBajoRojo2 = (170, 80, 80)\n",
    "umbralAltoRojo2 = (180, 255, 255)\n",
    "\n",
    "# Crea las máscaras para el color rojo\n",
    "mascaraRojo1 = cv.inRange(img3, umbralBajoRojo1, umbralAltoRojo1)\n",
    "mascaraRojo2 = cv.inRange(img3, umbralBajoRojo2, umbralAltoRojo2)\n",
    "\n",
    "# Combina las máscaras para obtener una única máscara para el color rojo\n",
    "mascaraRojo = mascaraRojo1 + mascaraRojo2\n",
    "\n",
    "# Aplica la máscara al resultado final\n",
    "resultadoRojo = cv.bitwise_and(img, img, mask=mascaraRojo)\n",
    "\n",
    "# Muestra las imágenes\n",
    "cv.imshow('resultadoRojo', resultadoRojo)\n",
    "\n",
    "cv.waitKey(0)\n",
    "cv.destroyAllWindows()\n"
   ]
  },
  {
   "cell_type": "markdown",
   "id": "b5f774c3-b2be-4fb1-8924-a05a4eed8ecd",
   "metadata": {},
   "source": [
    "# Solucion del problema\n",
    "\n",
    "El código proporcionado se centra en el procesamiento de imágenes para la detección del color rojo mediante el uso de la biblioteca OpenCV. La detección de colores en imágenes es una tarea fundamental en visión por computadora, con aplicaciones que van desde la identificación de objetos hasta la segmentación de áreas específicas en una escena. Este código particular se enfoca en la detección de tonalidades de rojo en una imagen y destaca el proceso paso a paso utilizado para lograr este objetivo.\n",
    "\n",
    "La primera parte del código implica la carga de una imagen ('f1.jpg') y la conversión de su formato de color de BGR a RGB, y luego de RGB a HSV (Hue, Saturation, Value). El espacio de color HSV es especialmente útil para la detección de colores, ya que separa la información de tono, saturación y brillo de la imagen.\r\n",
    "\r\n",
    "A continuación, se definen dos rangos de umbrales en el espacio de color HSV que representan tonalidades de rojo. Debido a la naturaleza cíclica del componente de tono en el espacio de color HSV, se utilizan dos rangos: uno para los tonos cercanos al rojo y otro para los tonos cercanos al magenta. Estos umbrales definen los límites del rango de colores que consideraremos como \"rojo\" en la imagen.\r\n",
    "\r\n",
    "Luego, se crean dos máscaras utilizando las funciones cv.inRange, las cuales asignan a cada píxel de la imagen un valor binario en función de si su color en el espacio HSV se encuentra dentro de los umbrales definidos para el rojo. Estas máscaras, mascaraRojo1 y mascaraRojo2, representan áreas de la imagen donde se detecta color rojo.\r\n",
    "\r\n",
    "Posteriormente, estas máscaras individuales se combinan mediante la operación de suma, creando así una máscara única, mascaraRojo, que incluye todas las áreas detectadas como rojas en la imagen original.\r\n",
    "\r\n",
    "La última parte del código aplica esta máscara a la imagen original utilizando cv.bitwise_and, lo que resulta en una imagen final (resultadoRojo) donde solo los píxeles que cumplen con los criterios de color rojo son preservados, mientras que el resto se vuelven negros."
   ]
  },
  {
   "cell_type": "markdown",
   "id": "33036693-6fbf-46b0-8bec-ec8040c7c684",
   "metadata": {},
   "source": [
    "## conclusion \n",
    "\n",
    "Este código proporciona una implementación eficaz para la detección de color rojo en imágenes utilizando OpenCV. La combinación de umbrales en el espacio de color HSV y el uso de máscaras permite identificar de manera precisa áreas de interés en la imagen original. Sin embargo, es crucial ajustar los umbrales según las características específicas de la imagen y las condiciones de iluminación para obtener resultados óptimos.\n",
    "\n",
    "Este tipo de enfoques son fundamentales en aplicaciones como el seguimiento de objetos, reconocimiento de señales de tráfico y clasificación de elementos basada en el color. La comprensión de los conceptos detrás de este código proporciona una base sólida para explorar y desarrollar aplicaciones más avanzadas en el campo de la visión por computadora."
   ]
  },
  {
   "cell_type": "markdown",
   "id": "b01b5aef-bb2f-4f8b-b492-326ba87dec6e",
   "metadata": {},
   "source": [
    "## se logro encontrar 37 objetos "
   ]
  },
  {
   "cell_type": "code",
   "execution_count": null,
   "id": "432083ae-7fa8-4448-b71a-5a125c60e0ae",
   "metadata": {},
   "outputs": [],
   "source": []
  }
 ],
 "metadata": {
  "kernelspec": {
   "display_name": "Python 3 (ipykernel)",
   "language": "python",
   "name": "python3"
  },
  "language_info": {
   "codemirror_mode": {
    "name": "ipython",
    "version": 3
   },
   "file_extension": ".py",
   "mimetype": "text/x-python",
   "name": "python",
   "nbconvert_exporter": "python",
   "pygments_lexer": "ipython3",
   "version": "3.11.5"
  }
 },
 "nbformat": 4,
 "nbformat_minor": 5
}
