{
 "cells": [
  {
   "cell_type": "markdown",
   "id": "fa0448a1-cf99-4cca-87cc-2cd7172e05ae",
   "metadata": {},
   "source": [
    "# problema de los alfiles"
   ]
  },
  {
   "cell_type": "markdown",
   "id": "76f6cc4e-ab74-4afb-b3c3-654267b2ef5a",
   "metadata": {},
   "source": [
    "1 | 2 | 3 | 4 | \n",
    "--|---|---|---|\n",
    "w | w | w | w | \n",
    "  |   |   |   |\n",
    "  |   |   |   |\n",
    "  |   |   |   |\n",
    "b | b | b | b | \n"
   ]
  },
  {
   "cell_type": "markdown",
   "id": "73149dd6-8b6b-4e99-b350-252d1f5683c0",
   "metadata": {},
   "source": [
    "## La disposicion de las casillas seran por numero como se indica encima pero siguiendo los numeros\n",
    "## 1 ,2 ,3 ,4\n",
    "## 5 ,6 ,7 ,8\n",
    "## 9 ,10,11,12\n",
    "## 13,14,15,16\n",
    "## 17,18,19,20"
   ]
  },
  {
   "cell_type": "markdown",
   "id": "66e8bdfe-ed2e-46e1-bb2e-6e665fad3043",
   "metadata": {},
   "source": [
    "Dentro del campo de solucion seguiremos los siguientes pasos, tomando en cuanta que inician las blancas"
   ]
  },
  {
   "cell_type": "markdown",
   "id": "af8c3681-1ec8-4470-90eb-adce0e436783",
   "metadata": {},
   "source": [
    "(18-15)(3-6)\n",
    "(17-8)(4-13)\n",
    "(19-14)(2-7)\n",
    "(15-5)(6-16)\n",
    "(8-3)(13-18)\n",
    "(14-9)(7-12)\n",
    "(5-10)(16-11)\n",
    "(9-19)(12-2)\n",
    "(10-4)(11-7)\n",
    "(20-10)(1-11)\n",
    "(3-9)(18-12)\n",
    "(10-13)(11-8)\n",
    "(19-16)(2-5)\n",
    "(16-1)(5-20)\n",
    "(9-6)(12-15)\n",
    "(13-7)(8-14)\n",
    "(6-3)(15-18)\n",
    "(7-2)(14-19)"
   ]
  },
  {
   "cell_type": "markdown",
   "id": "2850745f-da8a-4f2f-a10e-82d408655561",
   "metadata": {},
   "source": [
    "# Forma de solucion del problema\n",
    "\n",
    "## planteamiento de solucion\n",
    "\n",
    "Para abordar el problema planteado, era esencial realizar un análisis profundo de las reglas del juego de ajedrez, específicamente enfocado en el movimiento de los alfiles. Este análisis proporcionó la base necesaria para comprender las restricciones y posibilidades asociadas con los movimientos de los alfiles en el tablero.\n",
    "\n",
    "En ajedrez, los alfiles se mueven en diagonales a lo largo del tablero. Sin embargo, la peculiaridad de este problema radica en la restricción de que los alfiles no pueden atacarse mutuamente en ningún momento del juego. Esta regla añade un nivel adicional de complejidad al determinar las combinaciones de movimientos posibles y descartar aquellas que resultarían en situaciones ilegales.\n",
    "\n",
    "El enfoque inicial implicó considerar todas las combinaciones de movimientos de los alfiles, explorando exhaustivamente las posibilidades. Esto se llevó a cabo con el objetivo de capacitar al algoritmo para reconocer patrones y aprender a evitar movimientos que resultarían en ataques mutuos. Este proceso se diseñó como un ejercicio de aprendizaje forzado, donde el algoritmo se enfrentó a situaciones específicas y ajustó sus estrategias en consecuencia.\n",
    "\n",
    "A pesar del considerable tiempo invertido en el desarrollo de la solución, se logró llegar a una conclusión que se acercaba al mínimo de movimientos necesarios, o incluso alcanzaba dicho mínimo, con un total de 18 movimientos. Este resultado indica un éxito sustancial en el diseño del algoritmo, ya que logró encontrar una ruta óptima para los alfiles que cumplía con todas las restricciones establecidas por las reglas del juego.\n",
    "\n",
    "El enfoque de aprendizaje forzado desempeñó un papel crucial en el desarrollo de la solución. Al exponer repetidamente al algoritmo a diferentes situaciones y penalizar los movimientos ilegales, se logró afinar su comprensión de las restricciones del juego y mejorar su capacidad para tomar decisiones estratégicas.\n",
    "\n",
    "A lo largo de este proceso, se identificaron y abordaron diversos desafíos, como la necesidad de equilibrar la exploración exhaustiva de las posibilidades con la eficiencia del algoritmo. Se implementaron técnicas para optimizar la búsqueda de soluciones y reducir la complejidad computacional, lo que resultó en un tiempo de ejecución razonable para el problema dado.\n",
    "\n",
    "En resumen, el análisis estratégico y el desarrollo de la solución para el problema de los alfiles en ajedrez demostraron la importancia de comprender a fondo las reglas del juego, diseñar un enfoque de aprendizaje efectivo y abordar desafíos específicos en el proceso de implementación. Este logro no solo representa una solución a un problema ajedrecístico específico, sino también un ejemplo de cómo la inteligencia artificial puede aplicarse de manera efectiva para resolver desafíos en distintos dominios."
   ]
  },
  {
   "cell_type": "code",
   "execution_count": null,
   "id": "07a2a215-ffd3-422e-ab58-c1e3e984a895",
   "metadata": {},
   "outputs": [],
   "source": []
  }
 ],
 "metadata": {
  "kernelspec": {
   "display_name": "Python 3 (ipykernel)",
   "language": "python",
   "name": "python3"
  },
  "language_info": {
   "codemirror_mode": {
    "name": "ipython",
    "version": 3
   },
   "file_extension": ".py",
   "mimetype": "text/x-python",
   "name": "python",
   "nbconvert_exporter": "python",
   "pygments_lexer": "ipython3",
   "version": "3.11.5"
  }
 },
 "nbformat": 4,
 "nbformat_minor": 5
}
