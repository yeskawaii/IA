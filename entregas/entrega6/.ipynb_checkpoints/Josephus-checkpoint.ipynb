{
 "cells": [
  {
   "cell_type": "markdown",
   "id": "ff576253-fdab-4c68-9e0f-4c2b6afaf5cc",
   "metadata": {},
   "source": [
    "Denotemos el número total de soldados como n. El problema de Josephus consiste en determinar la posición en la que Josephus debería colocarse inicialmente para convertirse en el último sobreviviente.\n",
    "\n",
    "El proceso de eliminación ocurre en pasos sucesivos. En el primer paso, cada segundo soldado es eliminado. En el segundo paso, cada tercer soldado es eliminado. Este patrón continúa hasta que solo queda un soldado.\n",
    "\n",
    "Para simplificar, asignemos a cada soldado un número único de 1 a n. El proceso de eliminación se realiza siguiendo un patrón de \"salto\" que se incrementa en uno en cada paso.\n",
    "\n",
    "Por ejemplo, si n=6, el proceso se desarrolla de la siguiente manera:\n",
    "\n",
    "Paso 1: 1 (elimina 2) 3 (elimina 4) 5 (elimina 6) 1\n",
    "Paso 2: 1 (elimina 3) 5 (elimina 1) 1\n",
    "Paso 3: 1 (elimina 5) 1 (elimina 1) 1\n",
    "En este caso, el sobreviviente es el soldado en la posición 1.\n",
    "\n",
    "La fórmula general para determinar la posición del último sobreviviente, denotada como J(n), se puede expresar recursivamente de la siguiente manera:"
   ]
  },
  {
   "cell_type": "code",
   "execution_count": 2,
   "id": "1afebfa7-1312-4161-89da-c55caf005e77",
   "metadata": {},
   "outputs": [
    {
     "name": "stdout",
     "output_type": "stream",
     "text": [
      "Josephus debería sentarse en la posición: 19\n"
     ]
    }
   ],
   "source": [
    "def josephus(n):\n",
    "    if n == 1:\n",
    "        return 1\n",
    "    else:\n",
    "        return (josephus(n - 1) + 1) % n + 1\n",
    "\n",
    "# Ejemplo con 41 soldados\n",
    "n_soldiers = 41\n",
    "survivor_position = josephus(n_soldiers)\n",
    "print(f\"Josephus debería sentarse en la posición: {survivor_position}\")"
   ]
  },
  {
   "cell_type": "markdown",
   "id": "2374cef1-c173-4ddc-9ea9-c880faff7fc9",
   "metadata": {},
   "source": [
    "La fórmula recursiva proporciona una solución eficiente para determinar la posición en la que Josephus debe ubicarse para convertirse en el último sobreviviente, independientemente del número de soldados. Este tipo de problemas ofrece una oportunidad interesante para explorar conceptos matemáticos y practicar habilidades de programación."
   ]
  },
  {
   "cell_type": "code",
   "execution_count": null,
   "id": "c6dea625-9092-45cf-a9f4-c73ab46aded8",
   "metadata": {},
   "outputs": [],
   "source": []
  }
 ],
 "metadata": {
  "kernelspec": {
   "display_name": "Python 3 (ipykernel)",
   "language": "python",
   "name": "python3"
  },
  "language_info": {
   "codemirror_mode": {
    "name": "ipython",
    "version": 3
   },
   "file_extension": ".py",
   "mimetype": "text/x-python",
   "name": "python",
   "nbconvert_exporter": "python",
   "pygments_lexer": "ipython3",
   "version": "3.11.5"
  }
 },
 "nbformat": 4,
 "nbformat_minor": 5
}
