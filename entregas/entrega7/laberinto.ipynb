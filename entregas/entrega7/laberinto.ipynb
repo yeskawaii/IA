{
 "cells": [
  {
   "cell_type": "markdown",
   "id": "85021556-1e66-4b12-a7cc-cefd8f37dc82",
   "metadata": {},
   "source": [
    " # Heurística y su Papel en la Resolución de Problemas:\n",
    "\n",
    "La heurística es un enfoque de resolución de problemas que utiliza reglas o principios generales para guiar la toma de decisiones y encontrar soluciones eficientes en situaciones complejas. En el contexto de búsqueda y optimización, la heurística proporciona estimaciones rápidas y prácticas para dirigir el proceso de toma de decisiones hacia una solución potencialmente óptima.\r\n",
    "\r\n",
    "La heurística juega un papel crucial en la resolución de problemas al permitir la exploración eficiente de espacios de soluciones, especialmente cuando estos son vastos o no se conocen completamente. A través de la heurística, es posible tomar decisiones informadas sobre qué caminos o soluciones seguir, reduciendo así el tiempo y los recursos requeridos para llegar a una solución satisfactoria."
   ]
  },
  {
   "cell_type": "markdown",
   "id": "1bf8474a-8f0b-43aa-ae4c-4da681f0c9dd",
   "metadata": {},
   "source": [
    "# Resolución Recursiva del Laberinto:"
   ]
  },
  {
   "cell_type": "code",
   "execution_count": 6,
   "id": "ad5f586a-4195-4a5d-9508-5c920b356e10",
   "metadata": {},
   "outputs": [
    {
     "name": "stdout",
     "output_type": "stream",
     "text": [
      "Camino encontrado:\n",
      "[1, 1, 1, 1, 1, 1, 1, 1, 1]\n",
      "[0, 0, 0, 0, 0, 0, 1, 0, 1]\n",
      "[1, 1, 1, 0, 1, 1, 1, 0, 1]\n",
      "[1, 0, 0, 0, 1, 0, 1, 0, 1]\n",
      "[1, 0, 1, 1, 1, 0, 1, 0, 1]\n",
      "[1, 0, 0, 0, 0, 0, 0, 0, 1]\n",
      "[1, 0, 1, 1, 1, 0, 1, 0, 1]\n",
      "[0, 0, 1, 0, 0, 0, 1, 0, 1]\n",
      "[1, 1, 1, 1, 1, 1, 1, 1, 1]\n",
      "\n",
      "Coordenadas del camino:\n",
      "[(1, 0), (1, 1), (1, 2), (1, 3), (2, 3), (3, 3), (3, 2), (3, 1), (4, 1), (5, 1), (6, 1), (7, 1), (7, 0)]\n"
     ]
    }
   ],
   "source": [
    "def resolver_laberinto(mapa, inicio, fin):\n",
    "    def buscar_camino(x, y):\n",
    "        if x < 0 or x >= len(mapa) or y < 0 or y >= len(mapa[0]) or mapa[x][y] == 1 or visitado[x][y]:\n",
    "            return False\n",
    "\n",
    "        visitado[x][y] = True\n",
    "        camino.append((x, y))  # Agregar la coordenada actual al camino\n",
    "\n",
    "        if (x, y) == fin:\n",
    "            return True\n",
    "\n",
    "        for dx, dy in [(0, 1), (1, 0), (0, -1), (-1, 0)]:\n",
    "            if buscar_camino(x + dx, y + dy):\n",
    "                return True\n",
    "\n",
    "        # Si no se encontró un camino en esta dirección, retroceder\n",
    "        camino.pop()\n",
    "        return False\n",
    "\n",
    "    visitado = [[False] * len(mapa[0]) for _ in range(len(mapa))]\n",
    "    camino = []  # Lista para almacenar el camino\n",
    "\n",
    "    if buscar_camino(*inicio):\n",
    "        print(\"Camino encontrado:\")\n",
    "        for fila in mapa:\n",
    "            print(fila)\n",
    "\n",
    "        print(\"\\nCoordenadas del camino:\")\n",
    "        print(camino)\n",
    "    else:\n",
    "        print(\"No se encontró un camino.\")\n",
    "\n",
    "# Puntos de inicio y fin (coordenadas)\n",
    "inicio = (1, 0)\n",
    "fin = (7, 0)\n",
    "\n",
    "# Mapa proporcionado\n",
    "mapa = [\n",
    "    [1, 1, 1, 1, 1, 1, 1, 1, 1],\n",
    "    [0, 0, 0, 0, 0, 0, 1, 0, 1],\n",
    "    [1, 1, 1, 0, 1, 1, 1, 0, 1],\n",
    "    [1, 0, 0, 0, 1, 0, 1, 0, 1],\n",
    "    [1, 0, 1, 1, 1, 0, 1, 0, 1],\n",
    "    [1, 0, 0, 0, 0, 0, 0, 0, 1],\n",
    "    [1, 0, 1, 1, 1, 0, 1, 0, 1],\n",
    "    [0, 0, 1, 0, 0, 0, 1, 0, 1],\n",
    "    [1, 1, 1, 1, 1, 1, 1, 1, 1]\n",
    "]\n",
    "\n",
    "# Llamar a la función de resolución\n",
    "resolver_laberinto(mapa, inicio, fin)\n"
   ]
  },
  {
   "cell_type": "markdown",
   "id": "801ae449-c892-4453-87df-57fc48a33a94",
   "metadata": {},
   "source": [
    "# algoritmo de solucion \n"
   ]
  },
  {
   "cell_type": "markdown",
   "id": "e395d4c7-cf37-4296-80fe-04e178cc81b2",
   "metadata": {},
   "source": [
    "El algoritmo propuesto utiliza la búsqueda en profundidad recursiva para explorar el laberinto desde el punto de inicio hasta el punto de destino, evitando los muros (1) y marcando las celdas visitadas. El camino encontrado se imprime al final del proceso.\n",
    "\n",
    "Definición de Función Recursiva:\r\n",
    "\r\n",
    "La función buscar_camino realiza la búsqueda en profundidad recursiva, marcando las celdas visitadas y evitando obstáculos.\r\n",
    "Inicialización del Mapa y Puntos de Inicio/Final:\r\n",
    "\r\n",
    "Se define el mapa del laberinto y se establecen los puntos de inicio y fin.\r\n",
    "Llamada a la Función de Resolución:\r\n",
    "\r\n",
    "Se llama a la función principal resolver_laberinto con los parámetros adecuados.\r\n",
    "Impresión del Resultado:\r\n",
    "\r\n",
    "El camino encontrado se imprime en la consola.\r\n",
    "Este algoritmo encuentra un camino desde el punto de inicio hasta el punto de destino en el laberinto, utilizando la heurística de búsqueda en profundidad."
   ]
  },
  {
   "cell_type": "code",
   "execution_count": null,
   "id": "0cb5656e-7dae-41c2-b4c9-17e9e7ea5e5d",
   "metadata": {},
   "outputs": [],
   "source": []
  }
 ],
 "metadata": {
  "kernelspec": {
   "display_name": "Python 3 (ipykernel)",
   "language": "python",
   "name": "python3"
  },
  "language_info": {
   "codemirror_mode": {
    "name": "ipython",
    "version": 3
   },
   "file_extension": ".py",
   "mimetype": "text/x-python",
   "name": "python",
   "nbconvert_exporter": "python",
   "pygments_lexer": "ipython3",
   "version": "3.11.5"
  }
 },
 "nbformat": 4,
 "nbformat_minor": 5
}
