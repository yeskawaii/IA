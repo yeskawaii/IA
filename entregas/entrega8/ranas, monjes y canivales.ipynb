{
 "cells": [
  {
   "cell_type": "markdown",
   "id": "e1c7e85e-1934-4180-a95f-70fd625b9e04",
   "metadata": {},
   "source": [
    "# Problema de las ranas\n",
    "\n",
    "El problema de las ranas que estás describiendo es un rompecabezas o acertijo que implica organizar un grupo de ranas de manera específica siguiendo ciertas reglas.\n",
    "\n",
    "## Reglas\n",
    "\n",
    "1. Las ranas no pueden brincar mas de un espacio\n",
    "2. Se pueden brincar entre ellas pero nadamas 1 rana\n",
    "3. no se pueden regresar las ranas\n",
    "4. Se deben de situar el grupo de ranas ocupando el lugar de las otras\n",
    "\n",
    "[0][0][0][][x][x][x]\n",
    "[0][0][0][x][][x][x]\n",
    "[0][0][][x][0][x][x]\n",
    "[0][][0][x][0][x][x]\n",
    "[0][x][0][][0][x][x]\n",
    "[0][x][0][x][0][][x]\n",
    "[0][x][0][x][0][x][]\n",
    "[0][x][0][x][][x][0]\n",
    "[0][x][][x][0][x][0]\n",
    "[][x][0][x][0][x][0]\n",
    "[x][][0][x][0][x][0]\n",
    "[x][x][0][][0][x][0]\n",
    "[x][x][0][x][0][][0]\n",
    "[x][x][0][x][][0][0]\n",
    "[x][x][][x][0][0][0]\n",
    "[x][x][x][][0][0][0]"
   ]
  },
  {
   "cell_type": "markdown",
   "id": "6f1afb66-afd4-4e73-8307-cac3b39e7a70",
   "metadata": {},
   "source": [
    "# problema de canibales y monjes\n",
    "\n",
    "1- llevo un monje y un canival en el barco \n",
    "2- se queda el canival y regresa el monje\n",
    "3- llevo dos canivales y dejo uno solo\n",
    "4- llevo dos monjes y regreso un monje y un canival\n",
    "5- llevo dos monjes y regreso un canival\n",
    "6- llevo dos canivales y regreso un monje\n",
    "7-llevo un monej y un canival\n",
    "\n",
    "## medida de rendimiento\n",
    "\n",
    "Se debe de pasar de un lado al otro a todos los elementos del problema\n",
    "no puede haber mayor cantidad de canivales que de monjes en ningun lado\n",
    "hacerlo en la ejor cantidad de movimientos\n",
    "terminaria en 7 pasos para que no coman a los monjes\n",
    "\n",
    "## secuencia de percepcion\n",
    "\n",
    "LadoA[monje,monje,monje,canival,canival,canival] barco[] LadoB[]\n",
    "LadoA[monje,monje,canival,canival] barco[canival,monje] LadoB[]\n",
    "LadoA[monje,monje,monje,canival,canival,canival] barco[monje] LadoB[canival]\n",
    "LadoA[monje,monje,monje] barco[canival,canival] LadoB[canival]\n",
    "LadoA[monje,monje,monje] barco[canival] LadoB[canival,canival]\n",
    "LadoA[monje,canival] barco[monje,monje] LadoB[canival,canival]\n",
    "LadoA[monje,canival] barco[canival,monje] LadoB[monje,canival]\n",
    "LadoA[canivalcanival] barco[monje,monje] LadoB[canival,monje]\n",
    "LadoA[canival,canival] barco[canival] LadoB[monje,monje,monje]\n",
    "LadoA[canival] barco[canival,canival] LadoB[monje,monje.monje]\n",
    "LadoA[canival] barco[canival] LadoB[monje,monje.monje,canival]\n",
    "LadoA[] barco[canival,canival] LadoB[monje,monje.monje,canival]\n",
    "LadoA[] barco[] LadoB[monje,monje.monje,canival,canival,canival]"
   ]
  },
  {
   "cell_type": "code",
   "execution_count": null,
   "id": "2faa9d33-3d92-4a24-a8c0-21d66065924c",
   "metadata": {},
   "outputs": [],
   "source": []
  }
 ],
 "metadata": {
  "kernelspec": {
   "display_name": "Python 3 (ipykernel)",
   "language": "python",
   "name": "python3"
  },
  "language_info": {
   "codemirror_mode": {
    "name": "ipython",
    "version": 3
   },
   "file_extension": ".py",
   "mimetype": "text/x-python",
   "name": "python",
   "nbconvert_exporter": "python",
   "pygments_lexer": "ipython3",
   "version": "3.11.5"
  }
 },
 "nbformat": 4,
 "nbformat_minor": 5
}
