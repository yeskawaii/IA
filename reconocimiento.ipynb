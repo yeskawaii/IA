{
 "cells": [
  {
   "cell_type": "code",
   "execution_count": 1,
   "id": "9ac40357-929b-4e01-9558-86d8a5c0ef31",
   "metadata": {},
   "outputs": [],
   "source": [
    "import cv2 as cv\n",
    "import numpy as np\n",
    "import math\n",
    "\n",
    "cap = cv.VideoCapture(0)\n",
    "i = 727\n",
    "\n",
    "while True:\n",
    "    ret, frame = cap.read()\n",
    "\n",
    "    # Dimensiones del fotograma de la cámara\n",
    "    frame_height, frame_width, _ = frame.shape\n",
    "\n",
    "    # Tamaño deseado del rectángulo\n",
    "    rect_width = 300\n",
    "    rect_height = 300\n",
    "\n",
    "    # Calcular las coordenadas para centrar el rectángulo\n",
    "    x1 = (frame_width - rect_width) // 2\n",
    "    y1 = (frame_height - rect_height) // 2\n",
    "    x2 = x1 + rect_width\n",
    "    y2 = y1 + rect_height\n",
    "\n",
    "    frame = cv.rectangle(frame, (x1, y1), (x2, y2), (255, 0, 0), 3)\n",
    "    frame2 = frame[y1:y2, x1:x2]\n",
    "\n",
    "    cv.imshow('frame', frame)\n",
    "    cv.imshow('dataset', frame2)\n",
    "\n",
    "    k = cv.waitKey(1)\n",
    "    if k == ord('a'):\n",
    "        i = i + 1\n",
    "        cv.imwrite(f'C:\\\\Users\\\\bono1\\\\OneDrive\\\\Documentos\\\\imagenes2\\\\imagen_{i}.jpg', frame2)\n",
    "\n",
    "    if k == ord(' '):\n",
    "        break\n",
    "\n",
    "cap.release()\n",
    "cv.destroyAllWindows()\n"
   ]
  },
  {
   "cell_type": "code",
   "execution_count": null,
   "id": "d5c178ee-f50e-4421-836a-791d8f2dc0ca",
   "metadata": {},
   "outputs": [],
   "source": [
    "#codigo del profesor\n",
    "import cv2 as cv\n",
    "import numpy as np\n",
    "import math\n",
    "\n",
    "cap = cv.VideoCapture(0)\n",
    "i = 0\n",
    "\n",
    "while True:\n",
    "    ret, frame = cap.read()\n",
    "\n",
    "    frame = cv.rectangle(frame, (100, 100), (400, 400), (255, 0, 0), 3)\n",
    "    frame2 = frame[100:400, 100:400]  # Fixed the slicing indices\n",
    "\n",
    "    cv.imshow('frame', frame)\n",
    "    cv.imshow('dataset', frame2)\n",
    "\n",
    "    k = cv.waitKey(1)\n",
    "    if k == ord('a'):\n",
    "        i = i + 1\n",
    "        cv.imwrite(f'C:\\\\Users\\\\Esther RS\\\\ejerciciosIA\\\\imagen_{i}.jpg', frame2)\n",
    "\n",
    "    if k == ord(' '):\n",
    "        break\n",
    "\n",
    "cap.release()\n",
    "cv.destroyAllWindows()"
   ]
  },
  {
   "cell_type": "code",
   "execution_count": null,
   "id": "45f2b654-d4b0-4560-9527-a44ec99091dc",
   "metadata": {},
   "outputs": [],
   "source": []
  }
 ],
 "metadata": {
  "kernelspec": {
   "display_name": "Python 3 (ipykernel)",
   "language": "python",
   "name": "python3"
  },
  "language_info": {
   "codemirror_mode": {
    "name": "ipython",
    "version": 3
   },
   "file_extension": ".py",
   "mimetype": "text/x-python",
   "name": "python",
   "nbconvert_exporter": "python",
   "pygments_lexer": "ipython3",
   "version": "3.11.5"
  }
 },
 "nbformat": 4,
 "nbformat_minor": 5
}
